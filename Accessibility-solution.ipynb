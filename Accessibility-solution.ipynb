{
 "cells": [
  {
   "cell_type": "markdown",
   "metadata": {},
   "source": [
    "# Solving an accessibility glitch with UrbanAccess walk + transit networks\n",
    "\n",
    "Sam Maurer - October 2020\n",
    "\n",
    "This notebook investigates a reported issue where adding a subway network had the unexpected effect of _reducing_ accessibility (jobs within 15 minutes) for certain locations. \n",
    "\n",
    "My original suspicion was that the issue could be related to the contraction hierarchy heuristic that Pandana uses to speed up shortest-path calculations -- fast links are prioritized in the network, so perhaps adding a subway caused some routings to shift to rail even when it wasn't strictly optimal. But this turns out not to be the problem (see separate notebook demonstrating that). \n",
    "\n",
    "Here's what it is: When job counts are linked to the network, they're assigned to whatever node is closest to the coordinates from the job data. Usually this is a road intersection, but sometimes it's a transit station. By design, there's extra impedance between a road and a neighboring transit station, meant to capture the wait time between trains. \n",
    "\n",
    "So when the rail network is added, some small number of jobs end up assigned to rail stations. And it takes people longer to reach those jobs (people not arriving by train, at least) than it did previously, because of the impedance. \n",
    "\n",
    "The solution, demonstrated below, is to make sure jobs are only associated with normal street nodes, not transit nodes. The context we're looking at is Oakland, California and includes the walking network (from Open Street Map), the bus network (ACTransit), and the rail network (BART)."
   ]
  },
  {
   "cell_type": "code",
   "execution_count": 1,
   "metadata": {},
   "outputs": [],
   "source": [
    "import numpy as np\n",
    "import pandas as pd\n",
    "\n",
    "import pandana\n",
    "import urbanaccess"
   ]
  },
  {
   "cell_type": "code",
   "execution_count": 2,
   "metadata": {},
   "outputs": [
    {
     "name": "stdout",
     "output_type": "stream",
     "text": [
      "1.19.1\n",
      "1.1.2\n",
      "0.5.1\n",
      "0.2.1\n"
     ]
    }
   ],
   "source": [
    "print(np.__version__)\n",
    "print(pd.__version__)\n",
    "print(pandana.__version__)\n",
    "print(urbanaccess.__version__)"
   ]
  },
  {
   "cell_type": "code",
   "execution_count": 3,
   "metadata": {},
   "outputs": [],
   "source": [
    "pd.set_option('display.max_rows', None)\n",
    "pd.set_option('display.max_columns', None)"
   ]
  },
  {
   "cell_type": "code",
   "execution_count": null,
   "metadata": {},
   "outputs": [],
   "source": []
  },
  {
   "cell_type": "markdown",
   "metadata": {},
   "source": [
    "## 1. Load job data\n",
    "\n",
    "This code is copied from the original issue report.\n",
    "\n",
    "Download this data file here: https://www.dropbox.com/s/q2h5ww119xrebur/bay_area_demo_data.h5?dl=1"
   ]
  },
  {
   "cell_type": "code",
   "execution_count": 4,
   "metadata": {},
   "outputs": [
    {
     "name": "stdout",
     "output_type": "stream",
     "text": [
      "Total number of blocks: 107,080\n"
     ]
    },
    {
     "data": {
      "text/html": [
       "<div>\n",
       "<style scoped>\n",
       "    .dataframe tbody tr th:only-of-type {\n",
       "        vertical-align: middle;\n",
       "    }\n",
       "\n",
       "    .dataframe tbody tr th {\n",
       "        vertical-align: top;\n",
       "    }\n",
       "\n",
       "    .dataframe thead th {\n",
       "        text-align: right;\n",
       "    }\n",
       "</style>\n",
       "<table border=\"1\" class=\"dataframe\">\n",
       "  <thead>\n",
       "    <tr style=\"text-align: right;\">\n",
       "      <th></th>\n",
       "      <th>x</th>\n",
       "      <th>y</th>\n",
       "      <th>res_rents</th>\n",
       "      <th>res_values</th>\n",
       "      <th>square_meters_land</th>\n",
       "      <th>households</th>\n",
       "      <th>persons</th>\n",
       "      <th>workers</th>\n",
       "      <th>children</th>\n",
       "      <th>cars</th>\n",
       "      <th>income</th>\n",
       "      <th>jobs</th>\n",
       "      <th>54</th>\n",
       "      <th>71</th>\n",
       "      <th>81</th>\n",
       "      <th>51</th>\n",
       "      <th>23</th>\n",
       "      <th>3133</th>\n",
       "      <th>42</th>\n",
       "      <th>52</th>\n",
       "      <th>56</th>\n",
       "      <th>4445</th>\n",
       "      <th>62</th>\n",
       "      <th>61</th>\n",
       "      <th>53</th>\n",
       "      <th>72</th>\n",
       "      <th>92</th>\n",
       "      <th>4849</th>\n",
       "      <th>55</th>\n",
       "      <th>22</th>\n",
       "      <th>11</th>\n",
       "      <th>21</th>\n",
       "    </tr>\n",
       "  </thead>\n",
       "  <tbody>\n",
       "    <tr>\n",
       "      <th>060014001001000</th>\n",
       "      <td>-122.231654</td>\n",
       "      <td>37.879012</td>\n",
       "      <td>2201.1</td>\n",
       "      <td>1100001.1</td>\n",
       "      <td>590336</td>\n",
       "      <td>0.0</td>\n",
       "      <td>0.0</td>\n",
       "      <td>0.0</td>\n",
       "      <td>0.0</td>\n",
       "      <td>0.0</td>\n",
       "      <td>0.0</td>\n",
       "      <td>0.0</td>\n",
       "      <td>0.0</td>\n",
       "      <td>0.0</td>\n",
       "      <td>0.0</td>\n",
       "      <td>0.0</td>\n",
       "      <td>0.0</td>\n",
       "      <td>0.0</td>\n",
       "      <td>0.0</td>\n",
       "      <td>0.0</td>\n",
       "      <td>0.0</td>\n",
       "      <td>0.0</td>\n",
       "      <td>0.0</td>\n",
       "      <td>0.0</td>\n",
       "      <td>0.0</td>\n",
       "      <td>0.0</td>\n",
       "      <td>0.0</td>\n",
       "      <td>0.0</td>\n",
       "      <td>0.0</td>\n",
       "      <td>0.0</td>\n",
       "      <td>0.0</td>\n",
       "      <td>0.0</td>\n",
       "    </tr>\n",
       "    <tr>\n",
       "      <th>060014001001001</th>\n",
       "      <td>-122.234077</td>\n",
       "      <td>37.881846</td>\n",
       "      <td>2201.1</td>\n",
       "      <td>1100001.1</td>\n",
       "      <td>22089</td>\n",
       "      <td>0.0</td>\n",
       "      <td>0.0</td>\n",
       "      <td>0.0</td>\n",
       "      <td>0.0</td>\n",
       "      <td>0.0</td>\n",
       "      <td>0.0</td>\n",
       "      <td>0.0</td>\n",
       "      <td>0.0</td>\n",
       "      <td>0.0</td>\n",
       "      <td>0.0</td>\n",
       "      <td>0.0</td>\n",
       "      <td>0.0</td>\n",
       "      <td>0.0</td>\n",
       "      <td>0.0</td>\n",
       "      <td>0.0</td>\n",
       "      <td>0.0</td>\n",
       "      <td>0.0</td>\n",
       "      <td>0.0</td>\n",
       "      <td>0.0</td>\n",
       "      <td>0.0</td>\n",
       "      <td>0.0</td>\n",
       "      <td>0.0</td>\n",
       "      <td>0.0</td>\n",
       "      <td>0.0</td>\n",
       "      <td>0.0</td>\n",
       "      <td>0.0</td>\n",
       "      <td>0.0</td>\n",
       "    </tr>\n",
       "    <tr>\n",
       "      <th>060014001001002</th>\n",
       "      <td>-122.229372</td>\n",
       "      <td>37.880514</td>\n",
       "      <td>2201.1</td>\n",
       "      <td>1100001.1</td>\n",
       "      <td>9433</td>\n",
       "      <td>0.0</td>\n",
       "      <td>0.0</td>\n",
       "      <td>0.0</td>\n",
       "      <td>0.0</td>\n",
       "      <td>0.0</td>\n",
       "      <td>0.0</td>\n",
       "      <td>0.0</td>\n",
       "      <td>0.0</td>\n",
       "      <td>0.0</td>\n",
       "      <td>0.0</td>\n",
       "      <td>0.0</td>\n",
       "      <td>0.0</td>\n",
       "      <td>0.0</td>\n",
       "      <td>0.0</td>\n",
       "      <td>0.0</td>\n",
       "      <td>0.0</td>\n",
       "      <td>0.0</td>\n",
       "      <td>0.0</td>\n",
       "      <td>0.0</td>\n",
       "      <td>0.0</td>\n",
       "      <td>0.0</td>\n",
       "      <td>0.0</td>\n",
       "      <td>0.0</td>\n",
       "      <td>0.0</td>\n",
       "      <td>0.0</td>\n",
       "      <td>0.0</td>\n",
       "      <td>0.0</td>\n",
       "    </tr>\n",
       "  </tbody>\n",
       "</table>\n",
       "</div>"
      ],
      "text/plain": [
       "                          x          y  res_rents  res_values  \\\n",
       "060014001001000 -122.231654  37.879012     2201.1   1100001.1   \n",
       "060014001001001 -122.234077  37.881846     2201.1   1100001.1   \n",
       "060014001001002 -122.229372  37.880514     2201.1   1100001.1   \n",
       "\n",
       "                 square_meters_land  households  persons  workers  children  \\\n",
       "060014001001000              590336         0.0      0.0      0.0       0.0   \n",
       "060014001001001               22089         0.0      0.0      0.0       0.0   \n",
       "060014001001002                9433         0.0      0.0      0.0       0.0   \n",
       "\n",
       "                 cars  income  jobs   54   71   81   51   23  3133   42   52  \\\n",
       "060014001001000   0.0     0.0   0.0  0.0  0.0  0.0  0.0  0.0   0.0  0.0  0.0   \n",
       "060014001001001   0.0     0.0   0.0  0.0  0.0  0.0  0.0  0.0   0.0  0.0  0.0   \n",
       "060014001001002   0.0     0.0   0.0  0.0  0.0  0.0  0.0  0.0   0.0  0.0  0.0   \n",
       "\n",
       "                  56  4445   62   61   53   72   92  4849   55   22   11   21  \n",
       "060014001001000  0.0   0.0  0.0  0.0  0.0  0.0  0.0   0.0  0.0  0.0  0.0  0.0  \n",
       "060014001001001  0.0   0.0  0.0  0.0  0.0  0.0  0.0   0.0  0.0  0.0  0.0  0.0  \n",
       "060014001001002  0.0   0.0  0.0  0.0  0.0  0.0  0.0   0.0  0.0  0.0  0.0  0.0  "
      ]
     },
     "execution_count": 4,
     "metadata": {},
     "output_type": "execute_result"
    }
   ],
   "source": [
    "blocks = pd.read_hdf('data/bay_area_demo_data.h5','blocks')\n",
    "# remove blocks that contain all water\n",
    "blocks = blocks[blocks['square_meters_land'] != 0]\n",
    "print('Total number of blocks: {:,}'.format(len(blocks)))\n",
    "blocks.head(3)"
   ]
  },
  {
   "cell_type": "markdown",
   "metadata": {},
   "source": [
    "Subset for Oakland:"
   ]
  },
  {
   "cell_type": "code",
   "execution_count": 5,
   "metadata": {},
   "outputs": [
    {
     "name": "stdout",
     "output_type": "stream",
     "text": [
      "Total number of subset blocks: 11,824\n"
     ]
    }
   ],
   "source": [
    "bbox = (-122.355881,37.632226,-122.114775,37.884725)\n",
    "\n",
    "lng_max, lat_min, lng_min, lat_max = bbox\n",
    "outside_bbox = blocks.loc[~(((lng_max < blocks[\"x\"]) & (blocks[\"x\"] < lng_min)) & ((lat_min < blocks[\"y\"]) & (blocks[\"y\"] < lat_max)))]\n",
    "blocks_subset = blocks.drop(outside_bbox.index)\n",
    "print('Total number of subset blocks: {:,}'.format(len(blocks_subset)))"
   ]
  },
  {
   "cell_type": "code",
   "execution_count": null,
   "metadata": {},
   "outputs": [],
   "source": []
  },
  {
   "cell_type": "markdown",
   "metadata": {},
   "source": [
    "## 2. Replicate problematic accessibilities\n",
    "\n",
    "Download the two network files here. UrbanAccess expects them to be inside a 'data' folder.\n",
    "- https://www.dropbox.com/s/sfhdx1zy6ul9v2j/actransit_with_headways.h5?dl=1\n",
    "- https://www.dropbox.com/s/baqzsn587xwjxen/actransit_bart_with_headways.h5?dl=1\n",
    "\n",
    "First, load the walk + ACTransit network:"
   ]
  },
  {
   "cell_type": "code",
   "execution_count": 6,
   "metadata": {},
   "outputs": [
    {
     "name": "stdout",
     "output_type": "stream",
     "text": [
      "Successfully read store: data/actransit_with_headways.h5 with the following keys: ['/edges', '/nodes']\n",
      "Successfully read store: data/actransit_with_headways.h5 with the following keys: ['/edges', '/nodes']\n"
     ]
    }
   ],
   "source": [
    "ua_net = urbanaccess.network.load_network(filename='actransit_with_headways.h5')"
   ]
  },
  {
   "cell_type": "code",
   "execution_count": 7,
   "metadata": {},
   "outputs": [
    {
     "name": "stdout",
     "output_type": "stream",
     "text": [
      "CPU times: user 1min 58s, sys: 2.69 s, total: 2min 1s\n",
      "Wall time: 16.3 s\n"
     ]
    }
   ],
   "source": [
    "%%time\n",
    "net = pandana.Network(ua_net.net_nodes[\"x\"],\n",
    "                      ua_net.net_nodes[\"y\"],\n",
    "                      ua_net.net_edges[\"from_int\"],\n",
    "                      ua_net.net_edges[\"to_int\"],\n",
    "                      ua_net.net_edges[[\"weight\"]], \n",
    "                      twoway=False)"
   ]
  },
  {
   "cell_type": "markdown",
   "metadata": {},
   "source": [
    "### Associate jobs with nodes, and calculate accessibilities"
   ]
  },
  {
   "cell_type": "code",
   "execution_count": 8,
   "metadata": {},
   "outputs": [],
   "source": [
    "blocks_subset['node_id'] = net.get_node_ids(blocks_subset['x'], blocks_subset['y'])\n",
    "net.set(blocks_subset.node_id, variable = blocks_subset.jobs, name='jobs')"
   ]
  },
  {
   "cell_type": "code",
   "execution_count": 9,
   "metadata": {},
   "outputs": [],
   "source": [
    "jobs_15 = net.aggregate(15, type='sum', decay='linear', name='jobs')"
   ]
  },
  {
   "cell_type": "code",
   "execution_count": 10,
   "metadata": {},
   "outputs": [],
   "source": [
    "ua_nodes1 = ua_net.net_nodes.copy()\n",
    "ua_nodes1['jobs_15_act'] = jobs_15"
   ]
  },
  {
   "cell_type": "code",
   "execution_count": 11,
   "metadata": {},
   "outputs": [
    {
     "data": {
      "text/html": [
       "<div>\n",
       "<style scoped>\n",
       "    .dataframe tbody tr th:only-of-type {\n",
       "        vertical-align: middle;\n",
       "    }\n",
       "\n",
       "    .dataframe tbody tr th {\n",
       "        vertical-align: top;\n",
       "    }\n",
       "\n",
       "    .dataframe thead th {\n",
       "        text-align: right;\n",
       "    }\n",
       "</style>\n",
       "<table border=\"1\" class=\"dataframe\">\n",
       "  <thead>\n",
       "    <tr style=\"text-align: right;\">\n",
       "      <th></th>\n",
       "      <th>id</th>\n",
       "      <th>x</th>\n",
       "      <th>y</th>\n",
       "      <th>net_type</th>\n",
       "      <th>jobs_15_act</th>\n",
       "    </tr>\n",
       "    <tr>\n",
       "      <th>id_int</th>\n",
       "      <th></th>\n",
       "      <th></th>\n",
       "      <th></th>\n",
       "      <th></th>\n",
       "      <th></th>\n",
       "    </tr>\n",
       "  </thead>\n",
       "  <tbody>\n",
       "    <tr>\n",
       "      <th>1</th>\n",
       "      <td>0600390_ac_transit_J-141_ac_transit</td>\n",
       "      <td>-122.292298</td>\n",
       "      <td>37.848981</td>\n",
       "      <td>NaN</td>\n",
       "      <td>3433.030506</td>\n",
       "    </tr>\n",
       "    <tr>\n",
       "      <th>2</th>\n",
       "      <td>0601170_ac_transit_J-141_ac_transit</td>\n",
       "      <td>-122.292158</td>\n",
       "      <td>37.846713</td>\n",
       "      <td>NaN</td>\n",
       "      <td>3564.098974</td>\n",
       "    </tr>\n",
       "    <tr>\n",
       "      <th>3</th>\n",
       "      <td>0600190_ac_transit_J-141_ac_transit</td>\n",
       "      <td>-122.295368</td>\n",
       "      <td>37.846228</td>\n",
       "      <td>NaN</td>\n",
       "      <td>3158.065181</td>\n",
       "    </tr>\n",
       "  </tbody>\n",
       "</table>\n",
       "</div>"
      ],
      "text/plain": [
       "                                         id           x          y net_type  \\\n",
       "id_int                                                                        \n",
       "1       0600390_ac_transit_J-141_ac_transit -122.292298  37.848981      NaN   \n",
       "2       0601170_ac_transit_J-141_ac_transit -122.292158  37.846713      NaN   \n",
       "3       0600190_ac_transit_J-141_ac_transit -122.295368  37.846228      NaN   \n",
       "\n",
       "        jobs_15_act  \n",
       "id_int               \n",
       "1       3433.030506  \n",
       "2       3564.098974  \n",
       "3       3158.065181  "
      ]
     },
     "execution_count": 11,
     "metadata": {},
     "output_type": "execute_result"
    }
   ],
   "source": [
    "ua_nodes1.head(3)"
   ]
  },
  {
   "cell_type": "markdown",
   "metadata": {},
   "source": [
    "### Repeat for walk + ACTransit + BART network"
   ]
  },
  {
   "cell_type": "code",
   "execution_count": 12,
   "metadata": {},
   "outputs": [
    {
     "name": "stdout",
     "output_type": "stream",
     "text": [
      "Successfully read store: data/actransit_bart_with_headways.h5 with the following keys: ['/edges', '/nodes']\n",
      "Successfully read store: data/actransit_bart_with_headways.h5 with the following keys: ['/edges', '/nodes']\n"
     ]
    }
   ],
   "source": [
    "ua_net = urbanaccess.network.load_network(filename='actransit_bart_with_headways.h5')"
   ]
  },
  {
   "cell_type": "code",
   "execution_count": 13,
   "metadata": {},
   "outputs": [
    {
     "name": "stdout",
     "output_type": "stream",
     "text": [
      "CPU times: user 2min 3s, sys: 3.25 s, total: 2min 6s\n",
      "Wall time: 17.2 s\n"
     ]
    }
   ],
   "source": [
    "%%time\n",
    "net = pandana.Network(ua_net.net_nodes[\"x\"],\n",
    "                      ua_net.net_nodes[\"y\"],\n",
    "                      ua_net.net_edges[\"from_int\"],\n",
    "                      ua_net.net_edges[\"to_int\"],\n",
    "                      ua_net.net_edges[[\"weight\"]], \n",
    "                      twoway=False)"
   ]
  },
  {
   "cell_type": "code",
   "execution_count": 14,
   "metadata": {},
   "outputs": [],
   "source": [
    "blocks_subset['node_id'] = net.get_node_ids(blocks_subset['x'], blocks_subset['y'])\n",
    "net.set(blocks_subset.node_id, variable = blocks_subset.jobs, name='jobs')"
   ]
  },
  {
   "cell_type": "code",
   "execution_count": 15,
   "metadata": {},
   "outputs": [],
   "source": [
    "jobs_15 = net.aggregate(15, type='sum', decay='linear', name='jobs')"
   ]
  },
  {
   "cell_type": "code",
   "execution_count": 16,
   "metadata": {},
   "outputs": [],
   "source": [
    "ua_nodes2 = ua_net.net_nodes.copy()\n",
    "ua_nodes2['jobs_15_act_bart'] = jobs_15"
   ]
  },
  {
   "cell_type": "code",
   "execution_count": 17,
   "metadata": {},
   "outputs": [
    {
     "data": {
      "text/html": [
       "<div>\n",
       "<style scoped>\n",
       "    .dataframe tbody tr th:only-of-type {\n",
       "        vertical-align: middle;\n",
       "    }\n",
       "\n",
       "    .dataframe tbody tr th {\n",
       "        vertical-align: top;\n",
       "    }\n",
       "\n",
       "    .dataframe thead th {\n",
       "        text-align: right;\n",
       "    }\n",
       "</style>\n",
       "<table border=\"1\" class=\"dataframe\">\n",
       "  <thead>\n",
       "    <tr style=\"text-align: right;\">\n",
       "      <th></th>\n",
       "      <th>id</th>\n",
       "      <th>x</th>\n",
       "      <th>y</th>\n",
       "      <th>net_type</th>\n",
       "      <th>jobs_15_act_bart</th>\n",
       "    </tr>\n",
       "    <tr>\n",
       "      <th>id_int</th>\n",
       "      <th></th>\n",
       "      <th></th>\n",
       "      <th></th>\n",
       "      <th></th>\n",
       "      <th></th>\n",
       "    </tr>\n",
       "  </thead>\n",
       "  <tbody>\n",
       "    <tr>\n",
       "      <th>1</th>\n",
       "      <td>FTVL_bay_area_rapid_transit_05_bay_area_rapid_...</td>\n",
       "      <td>-122.224274</td>\n",
       "      <td>37.774963</td>\n",
       "      <td>NaN</td>\n",
       "      <td>10300.463643</td>\n",
       "    </tr>\n",
       "    <tr>\n",
       "      <th>2</th>\n",
       "      <td>COLS_bay_area_rapid_transit_05_bay_area_rapid_...</td>\n",
       "      <td>-122.197273</td>\n",
       "      <td>37.754006</td>\n",
       "      <td>NaN</td>\n",
       "      <td>8608.617062</td>\n",
       "    </tr>\n",
       "    <tr>\n",
       "      <th>3</th>\n",
       "      <td>SANL_bay_area_rapid_transit_05_bay_area_rapid_...</td>\n",
       "      <td>-122.161311</td>\n",
       "      <td>37.722619</td>\n",
       "      <td>NaN</td>\n",
       "      <td>6321.116765</td>\n",
       "    </tr>\n",
       "  </tbody>\n",
       "</table>\n",
       "</div>"
      ],
      "text/plain": [
       "                                                       id           x  \\\n",
       "id_int                                                                  \n",
       "1       FTVL_bay_area_rapid_transit_05_bay_area_rapid_... -122.224274   \n",
       "2       COLS_bay_area_rapid_transit_05_bay_area_rapid_... -122.197273   \n",
       "3       SANL_bay_area_rapid_transit_05_bay_area_rapid_... -122.161311   \n",
       "\n",
       "                y net_type  jobs_15_act_bart  \n",
       "id_int                                        \n",
       "1       37.774963      NaN      10300.463643  \n",
       "2       37.754006      NaN       8608.617062  \n",
       "3       37.722619      NaN       6321.116765  "
      ]
     },
     "execution_count": 17,
     "metadata": {},
     "output_type": "execute_result"
    }
   ],
   "source": [
    "ua_nodes2.head(3)"
   ]
  },
  {
   "cell_type": "markdown",
   "metadata": {},
   "source": [
    "### Merge the accessibilities and compare"
   ]
  },
  {
   "cell_type": "code",
   "execution_count": 18,
   "metadata": {},
   "outputs": [],
   "source": [
    "ua_nodes1_clean = ua_nodes1.loc[ua_nodes1.net_type == 'walk', ['id','x','y','jobs_15_act']]\n",
    "ua_nodes2_clean = ua_nodes2.loc[ua_nodes2.net_type == 'walk', ['id','jobs_15_act_bart']]\n",
    "\n",
    "nodes = pd.merge(ua_nodes1_clean, \n",
    "                 ua_nodes2_clean, \n",
    "                 how = 'inner', \n",
    "                 on = 'id')"
   ]
  },
  {
   "cell_type": "code",
   "execution_count": 19,
   "metadata": {},
   "outputs": [],
   "source": [
    "nodes['jobs_15_ratio'] = nodes.jobs_15_act_bart / nodes.jobs_15_act"
   ]
  },
  {
   "cell_type": "code",
   "execution_count": 20,
   "metadata": {},
   "outputs": [
    {
     "data": {
      "text/html": [
       "<div>\n",
       "<style scoped>\n",
       "    .dataframe tbody tr th:only-of-type {\n",
       "        vertical-align: middle;\n",
       "    }\n",
       "\n",
       "    .dataframe tbody tr th {\n",
       "        vertical-align: top;\n",
       "    }\n",
       "\n",
       "    .dataframe thead th {\n",
       "        text-align: right;\n",
       "    }\n",
       "</style>\n",
       "<table border=\"1\" class=\"dataframe\">\n",
       "  <thead>\n",
       "    <tr style=\"text-align: right;\">\n",
       "      <th></th>\n",
       "      <th>x</th>\n",
       "      <th>y</th>\n",
       "      <th>jobs_15_act</th>\n",
       "      <th>jobs_15_act_bart</th>\n",
       "      <th>jobs_15_ratio</th>\n",
       "    </tr>\n",
       "  </thead>\n",
       "  <tbody>\n",
       "    <tr>\n",
       "      <th>count</th>\n",
       "      <td>55440.000000</td>\n",
       "      <td>55440.000000</td>\n",
       "      <td>55440.000000</td>\n",
       "      <td>55440.000000</td>\n",
       "      <td>54577.000000</td>\n",
       "    </tr>\n",
       "    <tr>\n",
       "      <th>mean</th>\n",
       "      <td>-122.220596</td>\n",
       "      <td>37.784235</td>\n",
       "      <td>1843.589963</td>\n",
       "      <td>1918.135519</td>\n",
       "      <td>1.039537</td>\n",
       "    </tr>\n",
       "    <tr>\n",
       "      <th>std</th>\n",
       "      <td>0.055707</td>\n",
       "      <td>0.060465</td>\n",
       "      <td>3190.372252</td>\n",
       "      <td>3332.920532</td>\n",
       "      <td>0.372502</td>\n",
       "    </tr>\n",
       "    <tr>\n",
       "      <th>min</th>\n",
       "      <td>-122.342039</td>\n",
       "      <td>37.631875</td>\n",
       "      <td>0.000000</td>\n",
       "      <td>0.000000</td>\n",
       "      <td>0.488894</td>\n",
       "    </tr>\n",
       "    <tr>\n",
       "      <th>25%</th>\n",
       "      <td>-122.267031</td>\n",
       "      <td>37.739285</td>\n",
       "      <td>292.714193</td>\n",
       "      <td>293.846367</td>\n",
       "      <td>1.000000</td>\n",
       "    </tr>\n",
       "    <tr>\n",
       "      <th>50%</th>\n",
       "      <td>-122.232524</td>\n",
       "      <td>37.787570</td>\n",
       "      <td>878.969028</td>\n",
       "      <td>888.557053</td>\n",
       "      <td>1.000000</td>\n",
       "    </tr>\n",
       "    <tr>\n",
       "      <th>75%</th>\n",
       "      <td>-122.174038</td>\n",
       "      <td>37.832181</td>\n",
       "      <td>1867.369856</td>\n",
       "      <td>1940.829419</td>\n",
       "      <td>1.000000</td>\n",
       "    </tr>\n",
       "    <tr>\n",
       "      <th>max</th>\n",
       "      <td>-122.107708</td>\n",
       "      <td>37.891111</td>\n",
       "      <td>27177.999511</td>\n",
       "      <td>30860.928071</td>\n",
       "      <td>11.830064</td>\n",
       "    </tr>\n",
       "  </tbody>\n",
       "</table>\n",
       "</div>"
      ],
      "text/plain": [
       "                  x             y   jobs_15_act  jobs_15_act_bart  \\\n",
       "count  55440.000000  55440.000000  55440.000000      55440.000000   \n",
       "mean    -122.220596     37.784235   1843.589963       1918.135519   \n",
       "std        0.055707      0.060465   3190.372252       3332.920532   \n",
       "min     -122.342039     37.631875      0.000000          0.000000   \n",
       "25%     -122.267031     37.739285    292.714193        293.846367   \n",
       "50%     -122.232524     37.787570    878.969028        888.557053   \n",
       "75%     -122.174038     37.832181   1867.369856       1940.829419   \n",
       "max     -122.107708     37.891111  27177.999511      30860.928071   \n",
       "\n",
       "       jobs_15_ratio  \n",
       "count   54577.000000  \n",
       "mean        1.039537  \n",
       "std         0.372502  \n",
       "min         0.488894  \n",
       "25%         1.000000  \n",
       "50%         1.000000  \n",
       "75%         1.000000  \n",
       "max        11.830064  "
      ]
     },
     "execution_count": 20,
     "metadata": {},
     "output_type": "execute_result"
    }
   ],
   "source": [
    "nodes.describe()"
   ]
  },
  {
   "cell_type": "code",
   "execution_count": 21,
   "metadata": {},
   "outputs": [
    {
     "name": "stdout",
     "output_type": "stream",
     "text": [
      "55440\n",
      "5769\n"
     ]
    }
   ],
   "source": [
    "print(len(nodes))\n",
    "print(len(nodes.loc[nodes.jobs_15_ratio < 1]))"
   ]
  },
  {
   "cell_type": "markdown",
   "metadata": {},
   "source": [
    "#### 10% of nodes have lower accessibility after adding BART to the network, which is clearly wrong."
   ]
  },
  {
   "cell_type": "code",
   "execution_count": null,
   "metadata": {},
   "outputs": [],
   "source": []
  },
  {
   "cell_type": "code",
   "execution_count": null,
   "metadata": {},
   "outputs": [],
   "source": []
  },
  {
   "cell_type": "markdown",
   "metadata": {},
   "source": [
    "## 3. Repeat, linking jobs ONLY to the non-transit nodes"
   ]
  },
  {
   "cell_type": "code",
   "execution_count": 22,
   "metadata": {},
   "outputs": [
    {
     "name": "stdout",
     "output_type": "stream",
     "text": [
      "Successfully read store: data/actransit_with_headways.h5 with the following keys: ['/edges', '/nodes']\n",
      "Successfully read store: data/actransit_with_headways.h5 with the following keys: ['/edges', '/nodes']\n"
     ]
    }
   ],
   "source": [
    "ua_net = urbanaccess.network.load_network(filename='actransit_with_headways.h5')"
   ]
  },
  {
   "cell_type": "code",
   "execution_count": 23,
   "metadata": {},
   "outputs": [
    {
     "name": "stdout",
     "output_type": "stream",
     "text": [
      "CPU times: user 1min 44s, sys: 13.7 s, total: 1min 58s\n",
      "Wall time: 15.7 s\n"
     ]
    }
   ],
   "source": [
    "%%time\n",
    "net = pandana.Network(ua_net.net_nodes[\"x\"],\n",
    "                      ua_net.net_nodes[\"y\"],\n",
    "                      ua_net.net_edges[\"from_int\"],\n",
    "                      ua_net.net_edges[\"to_int\"],\n",
    "                      ua_net.net_edges[[\"weight\"]], \n",
    "                      twoway=False)"
   ]
  },
  {
   "cell_type": "markdown",
   "metadata": {},
   "source": [
    "### Limit to just the OSM nodes\n",
    "\n",
    "We link jobs to nodes on the Pandana side, but at that point the metadata about which nodes are from the walking network vs. the transit network is lost. So I'm creating a second Pandana network with just the OSM nodes, in order to associate the job counts with appropriate node ID's."
   ]
  },
  {
   "cell_type": "code",
   "execution_count": 24,
   "metadata": {},
   "outputs": [
    {
     "name": "stdout",
     "output_type": "stream",
     "text": [
      "59099\n",
      "55440\n"
     ]
    }
   ],
   "source": [
    "osm_node_ids = ua_net.net_nodes.loc[ua_net.net_nodes.net_type == 'walk'].index.values\n",
    "print(len(ua_net.net_nodes))\n",
    "print(len(osm_node_ids))"
   ]
  },
  {
   "cell_type": "code",
   "execution_count": 25,
   "metadata": {},
   "outputs": [],
   "source": [
    "osm_nodes = ua_net.net_nodes.reindex(osm_node_ids)  # filters for rows with index in list of values"
   ]
  },
  {
   "cell_type": "code",
   "execution_count": 26,
   "metadata": {},
   "outputs": [],
   "source": [
    "osm_edges = ua_net.net_edges.loc[ua_net.net_edges.from_int.isin(osm_node_ids) &\n",
    "                                 ua_net.net_edges.to_int.isin(osm_node_ids)]"
   ]
  },
  {
   "cell_type": "code",
   "execution_count": 27,
   "metadata": {},
   "outputs": [
    {
     "name": "stdout",
     "output_type": "stream",
     "text": [
      "CPU times: user 9.49 s, sys: 1.18 s, total: 10.7 s\n",
      "Wall time: 1.68 s\n"
     ]
    }
   ],
   "source": [
    "%%time\n",
    "osm_net = pandana.Network(osm_nodes[\"x\"], \n",
    "                          osm_nodes[\"y\"],\n",
    "                          osm_edges[\"from_int\"],\n",
    "                          osm_edges[\"to_int\"],\n",
    "                          osm_edges[[\"weight\"]], \n",
    "                          twoway=False)"
   ]
  },
  {
   "cell_type": "markdown",
   "metadata": {},
   "source": [
    "Assign node ids to job counts using the smaller network, but then \"set\" the jobs onto the full network:"
   ]
  },
  {
   "cell_type": "code",
   "execution_count": 28,
   "metadata": {},
   "outputs": [],
   "source": [
    "blocks_subset['node_id'] = osm_net.get_node_ids(blocks_subset['x'], blocks_subset['y'])"
   ]
  },
  {
   "cell_type": "code",
   "execution_count": 29,
   "metadata": {},
   "outputs": [],
   "source": [
    "net.set(blocks_subset.node_id, variable = blocks_subset.jobs, name='jobs')"
   ]
  },
  {
   "cell_type": "markdown",
   "metadata": {},
   "source": [
    "Calculate accessibility on the full network:"
   ]
  },
  {
   "cell_type": "code",
   "execution_count": 30,
   "metadata": {},
   "outputs": [],
   "source": [
    "jobs_15 = net.aggregate(15, type='sum', decay='linear', name='jobs')"
   ]
  },
  {
   "cell_type": "code",
   "execution_count": 31,
   "metadata": {},
   "outputs": [],
   "source": [
    "ua_nodes1 = ua_net.net_nodes.copy()\n",
    "ua_nodes1['jobs_15_act'] = jobs_15"
   ]
  },
  {
   "cell_type": "code",
   "execution_count": 32,
   "metadata": {},
   "outputs": [
    {
     "data": {
      "text/html": [
       "<div>\n",
       "<style scoped>\n",
       "    .dataframe tbody tr th:only-of-type {\n",
       "        vertical-align: middle;\n",
       "    }\n",
       "\n",
       "    .dataframe tbody tr th {\n",
       "        vertical-align: top;\n",
       "    }\n",
       "\n",
       "    .dataframe thead th {\n",
       "        text-align: right;\n",
       "    }\n",
       "</style>\n",
       "<table border=\"1\" class=\"dataframe\">\n",
       "  <thead>\n",
       "    <tr style=\"text-align: right;\">\n",
       "      <th></th>\n",
       "      <th>id</th>\n",
       "      <th>x</th>\n",
       "      <th>y</th>\n",
       "      <th>net_type</th>\n",
       "      <th>jobs_15_act</th>\n",
       "    </tr>\n",
       "    <tr>\n",
       "      <th>id_int</th>\n",
       "      <th></th>\n",
       "      <th></th>\n",
       "      <th></th>\n",
       "      <th></th>\n",
       "      <th></th>\n",
       "    </tr>\n",
       "  </thead>\n",
       "  <tbody>\n",
       "    <tr>\n",
       "      <th>1</th>\n",
       "      <td>0600390_ac_transit_J-141_ac_transit</td>\n",
       "      <td>-122.292298</td>\n",
       "      <td>37.848981</td>\n",
       "      <td>NaN</td>\n",
       "      <td>3469.682774</td>\n",
       "    </tr>\n",
       "    <tr>\n",
       "      <th>2</th>\n",
       "      <td>0601170_ac_transit_J-141_ac_transit</td>\n",
       "      <td>-122.292158</td>\n",
       "      <td>37.846713</td>\n",
       "      <td>NaN</td>\n",
       "      <td>3626.442572</td>\n",
       "    </tr>\n",
       "    <tr>\n",
       "      <th>3</th>\n",
       "      <td>0600190_ac_transit_J-141_ac_transit</td>\n",
       "      <td>-122.295368</td>\n",
       "      <td>37.846228</td>\n",
       "      <td>NaN</td>\n",
       "      <td>3234.868380</td>\n",
       "    </tr>\n",
       "  </tbody>\n",
       "</table>\n",
       "</div>"
      ],
      "text/plain": [
       "                                         id           x          y net_type  \\\n",
       "id_int                                                                        \n",
       "1       0600390_ac_transit_J-141_ac_transit -122.292298  37.848981      NaN   \n",
       "2       0601170_ac_transit_J-141_ac_transit -122.292158  37.846713      NaN   \n",
       "3       0600190_ac_transit_J-141_ac_transit -122.295368  37.846228      NaN   \n",
       "\n",
       "        jobs_15_act  \n",
       "id_int               \n",
       "1       3469.682774  \n",
       "2       3626.442572  \n",
       "3       3234.868380  "
      ]
     },
     "execution_count": 32,
     "metadata": {},
     "output_type": "execute_result"
    }
   ],
   "source": [
    "ua_nodes1.head(3)"
   ]
  },
  {
   "cell_type": "code",
   "execution_count": null,
   "metadata": {},
   "outputs": [],
   "source": []
  },
  {
   "cell_type": "markdown",
   "metadata": {},
   "source": [
    "### Do the same thing for the walk + ACTransit + BART network\n",
    "\n",
    "We need to generate the OSM subset of this network separately too, I think, because the nodes will have different ids assigned in UrbanAccess."
   ]
  },
  {
   "cell_type": "code",
   "execution_count": 33,
   "metadata": {},
   "outputs": [
    {
     "name": "stdout",
     "output_type": "stream",
     "text": [
      "Successfully read store: data/actransit_bart_with_headways.h5 with the following keys: ['/edges', '/nodes']\n",
      "Successfully read store: data/actransit_bart_with_headways.h5 with the following keys: ['/edges', '/nodes']\n"
     ]
    }
   ],
   "source": [
    "ua_net = urbanaccess.network.load_network(filename='actransit_bart_with_headways.h5')"
   ]
  },
  {
   "cell_type": "code",
   "execution_count": 34,
   "metadata": {},
   "outputs": [
    {
     "name": "stdout",
     "output_type": "stream",
     "text": [
      "CPU times: user 1min 53s, sys: 16 s, total: 2min 9s\n",
      "Wall time: 17.5 s\n"
     ]
    }
   ],
   "source": [
    "%%time\n",
    "net = pandana.Network(ua_net.net_nodes[\"x\"],\n",
    "                      ua_net.net_nodes[\"y\"],\n",
    "                      ua_net.net_edges[\"from_int\"],\n",
    "                      ua_net.net_edges[\"to_int\"],\n",
    "                      ua_net.net_edges[[\"weight\"]], \n",
    "                      twoway=False)"
   ]
  },
  {
   "cell_type": "code",
   "execution_count": 35,
   "metadata": {},
   "outputs": [
    {
     "name": "stdout",
     "output_type": "stream",
     "text": [
      "59143\n",
      "55440\n"
     ]
    }
   ],
   "source": [
    "osm_node_ids = ua_net.net_nodes.loc[ua_net.net_nodes.net_type == 'walk'].index.values\n",
    "print(len(ua_net.net_nodes))\n",
    "print(len(osm_node_ids))"
   ]
  },
  {
   "cell_type": "code",
   "execution_count": 36,
   "metadata": {},
   "outputs": [],
   "source": [
    "osm_nodes = ua_net.net_nodes.reindex(osm_node_ids)  # filters for rows with index in list of values\n",
    "osm_edges = ua_net.net_edges.loc[ua_net.net_edges.from_int.isin(osm_node_ids) &\n",
    "                                 ua_net.net_edges.to_int.isin(osm_node_ids)]"
   ]
  },
  {
   "cell_type": "code",
   "execution_count": 37,
   "metadata": {},
   "outputs": [
    {
     "name": "stdout",
     "output_type": "stream",
     "text": [
      "CPU times: user 12.5 s, sys: 892 ms, total: 13.4 s\n",
      "Wall time: 1.99 s\n"
     ]
    }
   ],
   "source": [
    "%%time\n",
    "osm_net = pandana.Network(osm_nodes[\"x\"], \n",
    "                          osm_nodes[\"y\"],\n",
    "                          osm_edges[\"from_int\"],\n",
    "                          osm_edges[\"to_int\"],\n",
    "                          osm_edges[[\"weight\"]], \n",
    "                          twoway=False)"
   ]
  },
  {
   "cell_type": "code",
   "execution_count": 38,
   "metadata": {},
   "outputs": [],
   "source": [
    "blocks_subset['node_id'] = osm_net.get_node_ids(blocks_subset['x'], blocks_subset['y'])\n",
    "net.set(blocks_subset.node_id, variable = blocks_subset.jobs, name='jobs')"
   ]
  },
  {
   "cell_type": "code",
   "execution_count": 39,
   "metadata": {},
   "outputs": [],
   "source": [
    "jobs_15 = net.aggregate(15, type='sum', decay='linear', name='jobs')"
   ]
  },
  {
   "cell_type": "code",
   "execution_count": 40,
   "metadata": {},
   "outputs": [],
   "source": [
    "ua_nodes2 = ua_net.net_nodes.copy()\n",
    "ua_nodes2['jobs_15_act_bart'] = jobs_15"
   ]
  },
  {
   "cell_type": "code",
   "execution_count": 41,
   "metadata": {},
   "outputs": [
    {
     "data": {
      "text/html": [
       "<div>\n",
       "<style scoped>\n",
       "    .dataframe tbody tr th:only-of-type {\n",
       "        vertical-align: middle;\n",
       "    }\n",
       "\n",
       "    .dataframe tbody tr th {\n",
       "        vertical-align: top;\n",
       "    }\n",
       "\n",
       "    .dataframe thead th {\n",
       "        text-align: right;\n",
       "    }\n",
       "</style>\n",
       "<table border=\"1\" class=\"dataframe\">\n",
       "  <thead>\n",
       "    <tr style=\"text-align: right;\">\n",
       "      <th></th>\n",
       "      <th>id</th>\n",
       "      <th>x</th>\n",
       "      <th>y</th>\n",
       "      <th>net_type</th>\n",
       "      <th>jobs_15_act_bart</th>\n",
       "    </tr>\n",
       "    <tr>\n",
       "      <th>id_int</th>\n",
       "      <th></th>\n",
       "      <th></th>\n",
       "      <th></th>\n",
       "      <th></th>\n",
       "      <th></th>\n",
       "    </tr>\n",
       "  </thead>\n",
       "  <tbody>\n",
       "    <tr>\n",
       "      <th>1</th>\n",
       "      <td>FTVL_bay_area_rapid_transit_05_bay_area_rapid_...</td>\n",
       "      <td>-122.224274</td>\n",
       "      <td>37.774963</td>\n",
       "      <td>NaN</td>\n",
       "      <td>12455.782702</td>\n",
       "    </tr>\n",
       "    <tr>\n",
       "      <th>2</th>\n",
       "      <td>COLS_bay_area_rapid_transit_05_bay_area_rapid_...</td>\n",
       "      <td>-122.197273</td>\n",
       "      <td>37.754006</td>\n",
       "      <td>NaN</td>\n",
       "      <td>9640.885678</td>\n",
       "    </tr>\n",
       "    <tr>\n",
       "      <th>3</th>\n",
       "      <td>SANL_bay_area_rapid_transit_05_bay_area_rapid_...</td>\n",
       "      <td>-122.161311</td>\n",
       "      <td>37.722619</td>\n",
       "      <td>NaN</td>\n",
       "      <td>6107.553962</td>\n",
       "    </tr>\n",
       "  </tbody>\n",
       "</table>\n",
       "</div>"
      ],
      "text/plain": [
       "                                                       id           x  \\\n",
       "id_int                                                                  \n",
       "1       FTVL_bay_area_rapid_transit_05_bay_area_rapid_... -122.224274   \n",
       "2       COLS_bay_area_rapid_transit_05_bay_area_rapid_... -122.197273   \n",
       "3       SANL_bay_area_rapid_transit_05_bay_area_rapid_... -122.161311   \n",
       "\n",
       "                y net_type  jobs_15_act_bart  \n",
       "id_int                                        \n",
       "1       37.774963      NaN      12455.782702  \n",
       "2       37.754006      NaN       9640.885678  \n",
       "3       37.722619      NaN       6107.553962  "
      ]
     },
     "execution_count": 41,
     "metadata": {},
     "output_type": "execute_result"
    }
   ],
   "source": [
    "ua_nodes2.head(3)"
   ]
  },
  {
   "cell_type": "code",
   "execution_count": null,
   "metadata": {},
   "outputs": [],
   "source": []
  },
  {
   "cell_type": "markdown",
   "metadata": {},
   "source": [
    "### Merge the accessibilities and compare\n",
    "\n",
    "We can merge on the original OSM ids, which will match for the OSM nodes."
   ]
  },
  {
   "cell_type": "code",
   "execution_count": 42,
   "metadata": {},
   "outputs": [],
   "source": [
    "ua_nodes1_clean = ua_nodes1.loc[ua_nodes1.net_type == 'walk', ['id','x','y','jobs_15_act']]\n",
    "ua_nodes2_clean = ua_nodes2.loc[ua_nodes2.net_type == 'walk', ['id','jobs_15_act_bart']]\n",
    "\n",
    "nodes = pd.merge(ua_nodes1_clean, \n",
    "                 ua_nodes2_clean, \n",
    "                 how = 'inner', \n",
    "                 on = 'id')"
   ]
  },
  {
   "cell_type": "code",
   "execution_count": 43,
   "metadata": {},
   "outputs": [
    {
     "data": {
      "text/html": [
       "<div>\n",
       "<style scoped>\n",
       "    .dataframe tbody tr th:only-of-type {\n",
       "        vertical-align: middle;\n",
       "    }\n",
       "\n",
       "    .dataframe tbody tr th {\n",
       "        vertical-align: top;\n",
       "    }\n",
       "\n",
       "    .dataframe thead th {\n",
       "        text-align: right;\n",
       "    }\n",
       "</style>\n",
       "<table border=\"1\" class=\"dataframe\">\n",
       "  <thead>\n",
       "    <tr style=\"text-align: right;\">\n",
       "      <th></th>\n",
       "      <th>id</th>\n",
       "      <th>x</th>\n",
       "      <th>y</th>\n",
       "      <th>jobs_15_act</th>\n",
       "      <th>jobs_15_act_bart</th>\n",
       "    </tr>\n",
       "  </thead>\n",
       "  <tbody>\n",
       "    <tr>\n",
       "      <th>0</th>\n",
       "      <td>30366199</td>\n",
       "      <td>-122.281347</td>\n",
       "      <td>37.828045</td>\n",
       "      <td>2238.892128</td>\n",
       "      <td>2238.892128</td>\n",
       "    </tr>\n",
       "    <tr>\n",
       "      <th>1</th>\n",
       "      <td>30366200</td>\n",
       "      <td>-122.280475</td>\n",
       "      <td>37.828248</td>\n",
       "      <td>2569.567284</td>\n",
       "      <td>2569.567284</td>\n",
       "    </tr>\n",
       "    <tr>\n",
       "      <th>2</th>\n",
       "      <td>30374146</td>\n",
       "      <td>-122.287497</td>\n",
       "      <td>37.802534</td>\n",
       "      <td>1592.634663</td>\n",
       "      <td>1592.634663</td>\n",
       "    </tr>\n",
       "  </tbody>\n",
       "</table>\n",
       "</div>"
      ],
      "text/plain": [
       "         id           x          y  jobs_15_act  jobs_15_act_bart\n",
       "0  30366199 -122.281347  37.828045  2238.892128       2238.892128\n",
       "1  30366200 -122.280475  37.828248  2569.567284       2569.567284\n",
       "2  30374146 -122.287497  37.802534  1592.634663       1592.634663"
      ]
     },
     "execution_count": 43,
     "metadata": {},
     "output_type": "execute_result"
    }
   ],
   "source": [
    "nodes.head(3)"
   ]
  },
  {
   "cell_type": "code",
   "execution_count": 44,
   "metadata": {},
   "outputs": [],
   "source": [
    "nodes['jobs_15_ratio'] = nodes.jobs_15_act_bart / nodes.jobs_15_act"
   ]
  },
  {
   "cell_type": "code",
   "execution_count": 45,
   "metadata": {},
   "outputs": [
    {
     "data": {
      "text/html": [
       "<div>\n",
       "<style scoped>\n",
       "    .dataframe tbody tr th:only-of-type {\n",
       "        vertical-align: middle;\n",
       "    }\n",
       "\n",
       "    .dataframe tbody tr th {\n",
       "        vertical-align: top;\n",
       "    }\n",
       "\n",
       "    .dataframe thead th {\n",
       "        text-align: right;\n",
       "    }\n",
       "</style>\n",
       "<table border=\"1\" class=\"dataframe\">\n",
       "  <thead>\n",
       "    <tr style=\"text-align: right;\">\n",
       "      <th></th>\n",
       "      <th>x</th>\n",
       "      <th>y</th>\n",
       "      <th>jobs_15_act</th>\n",
       "      <th>jobs_15_act_bart</th>\n",
       "      <th>jobs_15_ratio</th>\n",
       "    </tr>\n",
       "  </thead>\n",
       "  <tbody>\n",
       "    <tr>\n",
       "      <th>count</th>\n",
       "      <td>55440.000000</td>\n",
       "      <td>55440.000000</td>\n",
       "      <td>55440.000000</td>\n",
       "      <td>55440.000000</td>\n",
       "      <td>54577.000000</td>\n",
       "    </tr>\n",
       "    <tr>\n",
       "      <th>mean</th>\n",
       "      <td>-122.220596</td>\n",
       "      <td>37.784235</td>\n",
       "      <td>2008.193831</td>\n",
       "      <td>2067.731575</td>\n",
       "      <td>1.036367</td>\n",
       "    </tr>\n",
       "    <tr>\n",
       "      <th>std</th>\n",
       "      <td>0.055707</td>\n",
       "      <td>0.060465</td>\n",
       "      <td>3741.537578</td>\n",
       "      <td>3851.983741</td>\n",
       "      <td>0.394524</td>\n",
       "    </tr>\n",
       "    <tr>\n",
       "      <th>min</th>\n",
       "      <td>-122.342039</td>\n",
       "      <td>37.631875</td>\n",
       "      <td>0.000000</td>\n",
       "      <td>0.000000</td>\n",
       "      <td>1.000000</td>\n",
       "    </tr>\n",
       "    <tr>\n",
       "      <th>25%</th>\n",
       "      <td>-122.267031</td>\n",
       "      <td>37.739285</td>\n",
       "      <td>301.864398</td>\n",
       "      <td>302.499099</td>\n",
       "      <td>1.000000</td>\n",
       "    </tr>\n",
       "    <tr>\n",
       "      <th>50%</th>\n",
       "      <td>-122.232524</td>\n",
       "      <td>37.787570</td>\n",
       "      <td>898.123474</td>\n",
       "      <td>907.081498</td>\n",
       "      <td>1.000000</td>\n",
       "    </tr>\n",
       "    <tr>\n",
       "      <th>75%</th>\n",
       "      <td>-122.174038</td>\n",
       "      <td>37.832181</td>\n",
       "      <td>1898.933564</td>\n",
       "      <td>1973.531040</td>\n",
       "      <td>1.000000</td>\n",
       "    </tr>\n",
       "    <tr>\n",
       "      <th>max</th>\n",
       "      <td>-122.107708</td>\n",
       "      <td>37.891111</td>\n",
       "      <td>31560.787784</td>\n",
       "      <td>36738.856966</td>\n",
       "      <td>12.740816</td>\n",
       "    </tr>\n",
       "  </tbody>\n",
       "</table>\n",
       "</div>"
      ],
      "text/plain": [
       "                  x             y   jobs_15_act  jobs_15_act_bart  \\\n",
       "count  55440.000000  55440.000000  55440.000000      55440.000000   \n",
       "mean    -122.220596     37.784235   2008.193831       2067.731575   \n",
       "std        0.055707      0.060465   3741.537578       3851.983741   \n",
       "min     -122.342039     37.631875      0.000000          0.000000   \n",
       "25%     -122.267031     37.739285    301.864398        302.499099   \n",
       "50%     -122.232524     37.787570    898.123474        907.081498   \n",
       "75%     -122.174038     37.832181   1898.933564       1973.531040   \n",
       "max     -122.107708     37.891111  31560.787784      36738.856966   \n",
       "\n",
       "       jobs_15_ratio  \n",
       "count   54577.000000  \n",
       "mean        1.036367  \n",
       "std         0.394524  \n",
       "min         1.000000  \n",
       "25%         1.000000  \n",
       "50%         1.000000  \n",
       "75%         1.000000  \n",
       "max        12.740816  "
      ]
     },
     "execution_count": 45,
     "metadata": {},
     "output_type": "execute_result"
    }
   ],
   "source": [
    "nodes.describe()"
   ]
  },
  {
   "cell_type": "markdown",
   "metadata": {},
   "source": [
    "#### The problem is solved: after adding BART to the network, accessibility remains the same or improves at every node."
   ]
  },
  {
   "cell_type": "code",
   "execution_count": null,
   "metadata": {},
   "outputs": [],
   "source": []
  },
  {
   "cell_type": "code",
   "execution_count": null,
   "metadata": {},
   "outputs": [],
   "source": []
  },
  {
   "cell_type": "code",
   "execution_count": null,
   "metadata": {},
   "outputs": [],
   "source": []
  }
 ],
 "metadata": {
  "kernelspec": {
   "display_name": "Python [conda env:urbanaccess-assessment] *",
   "language": "python",
   "name": "conda-env-urbanaccess-assessment-py"
  },
  "language_info": {
   "codemirror_mode": {
    "name": "ipython",
    "version": 3
   },
   "file_extension": ".py",
   "mimetype": "text/x-python",
   "name": "python",
   "nbconvert_exporter": "python",
   "pygments_lexer": "ipython3",
   "version": "3.8.5"
  }
 },
 "nbformat": 4,
 "nbformat_minor": 4
}
